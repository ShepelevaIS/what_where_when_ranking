{
 "cells": [
  {
   "cell_type": "code",
   "execution_count": 1,
   "id": "940cf93c",
   "metadata": {
    "ExecuteTime": {
     "end_time": "2022-04-25T19:24:52.630800Z",
     "start_time": "2022-04-25T19:24:51.873912Z"
    }
   },
   "outputs": [],
   "source": [
    "import pandas as pd\n",
    "import numpy as np\n",
    "import pickle\n",
    "from tqdm.auto import tqdm\n",
    "from scipy.stats import spearmanr, kendalltau\n",
    "\n",
    "tqdm.pandas()"
   ]
  },
  {
   "cell_type": "markdown",
   "id": "b24c83d5",
   "metadata": {},
   "source": [
    "## Task 1:  Data preprocessing"
   ]
  },
  {
   "cell_type": "code",
   "execution_count": 2,
   "id": "35f9479c",
   "metadata": {
    "ExecuteTime": {
     "end_time": "2022-04-16T18:37:41.005352Z",
     "start_time": "2022-04-16T18:37:40.851673Z"
    }
   },
   "outputs": [],
   "source": [
    "players = pd.read_pickle('players.pkl')"
   ]
  },
  {
   "cell_type": "code",
   "execution_count": 3,
   "id": "f1f33b99",
   "metadata": {
    "ExecuteTime": {
     "end_time": "2022-04-16T18:37:41.325976Z",
     "start_time": "2022-04-16T18:37:41.008338Z"
    }
   },
   "outputs": [],
   "source": [
    "pd.DataFrame.from_records(list(players.values())).to_parquet('players.parquet')\n",
    "del players"
   ]
  },
  {
   "cell_type": "markdown",
   "id": "e91ea4c2",
   "metadata": {},
   "source": [
    "#### Обрабатываем метаданные турниров"
   ]
  },
  {
   "cell_type": "code",
   "execution_count": 4,
   "id": "947341aa",
   "metadata": {
    "ExecuteTime": {
     "end_time": "2022-04-16T18:37:41.370010Z",
     "start_time": "2022-04-16T18:37:41.329995Z"
    }
   },
   "outputs": [],
   "source": [
    "tournaments = pd.read_pickle('tournaments.pkl')"
   ]
  },
  {
   "cell_type": "code",
   "execution_count": 5,
   "id": "304b9d7f",
   "metadata": {
    "ExecuteTime": {
     "end_time": "2022-04-16T18:37:41.385245Z",
     "start_time": "2022-04-16T18:37:41.371009Z"
    }
   },
   "outputs": [],
   "source": [
    "def len_or_zero(x):\n",
    "    return 0 if x is None else len(x)\n",
    "\n",
    "def sum_values_or_zero(x):\n",
    "    return 0 if x is None else sum(x.values())\n",
    "\n",
    "def parse_tournament(tournament):\n",
    "    return {'id': tournament.get('id'),\n",
    "        'name': tournament.get('name'),\n",
    "        'dateStart': tournament.get('dateStart'),\n",
    "        'dateEnd': tournament.get('dateEnd'),\n",
    "        'type_name': tournament.get('type').get('name'),\n",
    "        'season': tournament.get('season'),\n",
    "        'num_rounds': len_or_zero(tournament.get('questionQty', list())),\n",
    "        'num_questions': sum_values_or_zero(tournament.get('questionQty'))\n",
    "    }"
   ]
  },
  {
   "cell_type": "code",
   "execution_count": 7,
   "id": "ccc1a25b",
   "metadata": {
    "ExecuteTime": {
     "end_time": "2022-04-16T18:37:41.429560Z",
     "start_time": "2022-04-16T18:37:41.396413Z"
    }
   },
   "outputs": [
    {
     "data": {
      "application/vnd.jupyter.widget-view+json": {
       "model_id": "4c14fe9e99ac4bcf84fb023600094b40",
       "version_major": 2,
       "version_minor": 0
      },
      "text/plain": [
       "  0%|          | 0/5528 [00:00<?, ?it/s]"
      ]
     },
     "metadata": {},
     "output_type": "display_data"
    }
   ],
   "source": [
    "tournaments_records = []\n",
    "for tournament in tqdm(tournaments.values()):\n",
    "    year = tournament['dateStart'].split('-')[0]\n",
    "    if year == '2019' or year == '2020':\n",
    "        tournaments_records.append(parse_tournament(tournament))\n",
    "\n",
    "del tournaments"
   ]
  },
  {
   "cell_type": "code",
   "execution_count": 8,
   "id": "e008456f",
   "metadata": {
    "ExecuteTime": {
     "end_time": "2022-04-16T18:37:41.445160Z",
     "start_time": "2022-04-16T18:37:41.429560Z"
    }
   },
   "outputs": [],
   "source": [
    "pd.DataFrame.from_records(tournaments_records).to_parquet('tournaments.parquet')"
   ]
  },
  {
   "cell_type": "markdown",
   "id": "66558932",
   "metadata": {},
   "source": [
    "#### Обрабатываем результаты турниров"
   ]
  },
  {
   "cell_type": "code",
   "execution_count": 9,
   "id": "701073ef",
   "metadata": {
    "ExecuteTime": {
     "end_time": "2022-04-16T18:37:49.596573Z",
     "start_time": "2022-04-16T18:37:41.445511Z"
    }
   },
   "outputs": [],
   "source": [
    "results = pd.read_pickle('results.pkl')"
   ]
  },
  {
   "cell_type": "code",
   "execution_count": 10,
   "id": "a3f58adb",
   "metadata": {
    "ExecuteTime": {
     "end_time": "2022-04-16T18:37:49.607024Z",
     "start_time": "2022-04-16T18:37:49.596573Z"
    }
   },
   "outputs": [],
   "source": [
    "def get_value_at(x, path):\n",
    "    for item in path:\n",
    "        if item in x:\n",
    "            x = x[item]\n",
    "            if x is None:\n",
    "                return x\n",
    "        else:\n",
    "            return None\n",
    "    return x\n",
    "        \n",
    "def parse_team_member(team_member):\n",
    "    return {\n",
    "        'player_id': get_value_at(team_member, ['player', 'id']),\n",
    "        'rating': team_member.get('rating'),\n",
    "        'usedRating': team_member.get('usedRating')\n",
    "    }\n",
    "\n",
    "def parse_team_result(team_result):\n",
    "    team_info = {\n",
    "        'team_id': get_value_at(team_result, ['team', 'id']),\n",
    "        'team_name': get_value_at(team_result, ['team', 'name']),\n",
    "        'team_town_id': get_value_at(team_result, ['team', 'town', 'id']),\n",
    "        'team_town_name': get_value_at(team_result, ['team', 'town', 'name']),\n",
    "        'mask': team_result.get('mask'),\n",
    "        'questionsTotal': team_result.get('questionsTotal'),\n",
    "        'position': team_result.get('position'),\n",
    "    }\n",
    "    team_info\n",
    "    result = []\n",
    "    for team_member in team_result.get('teamMembers'):\n",
    "        result.append({\n",
    "            **team_info,\n",
    "            **parse_team_member(team_member)\n",
    "        })\n",
    "    return result\n",
    "\n",
    "def parse_result(result):\n",
    "    records = []\n",
    "    for team_result in result:\n",
    "        records.extend(parse_team_result(team_result))\n",
    "    return records"
   ]
  },
  {
   "cell_type": "code",
   "execution_count": 11,
   "id": "d2bffb8c",
   "metadata": {
    "ExecuteTime": {
     "end_time": "2022-04-16T18:37:59.295235Z",
     "start_time": "2022-04-16T18:37:49.607024Z"
    }
   },
   "outputs": [
    {
     "data": {
      "application/vnd.jupyter.widget-view+json": {
       "model_id": "0777a66f02104a1ba9bb6de21fd14e30",
       "version_major": 2,
       "version_minor": 0
      },
      "text/plain": [
       "  0%|          | 0/5528 [00:00<?, ?it/s]"
      ]
     },
     "metadata": {},
     "output_type": "display_data"
    }
   ],
   "source": [
    "df_results = []\n",
    "\n",
    "for tournament_id, result in tqdm(results.items()):\n",
    "    records = parse_result(result)\n",
    "    df_result = pd.DataFrame.from_records(records)\n",
    "    df_result['tournament_id'] = tournament_id\n",
    "    df_results.append(df_result)\n",
    "    \n",
    "del results"
   ]
  },
  {
   "cell_type": "code",
   "execution_count": 12,
   "id": "aa7fdd5f",
   "metadata": {
    "ExecuteTime": {
     "end_time": "2022-04-16T18:38:00.162611Z",
     "start_time": "2022-04-16T18:37:59.295235Z"
    }
   },
   "outputs": [],
   "source": [
    "df_results = pd.concat(df_results, axis=0)"
   ]
  },
  {
   "cell_type": "code",
   "execution_count": 14,
   "id": "fa3eb5d5",
   "metadata": {
    "ExecuteTime": {
     "end_time": "2022-04-16T18:38:00.662318Z",
     "start_time": "2022-04-16T18:38:00.191293Z"
    }
   },
   "outputs": [],
   "source": [
    "df_results['team_id'] = df_results['team_id'].astype(np.int64)\n",
    "df_results['team_town_id'] = df_results['team_town_id'].fillna(-1).astype(np.int64)\n",
    "df_results['questionsTotal'] = df_results['questionsTotal'].fillna(0).astype(np.int64)\n",
    "df_results['player_id'] = df_results['player_id'].astype(np.int64)\n",
    "df_results['rating'] = df_results['rating'].astype(np.int64)\n",
    "df_results['usedRating'] = df_results['usedRating'].astype(np.int64)"
   ]
  },
  {
   "cell_type": "code",
   "execution_count": 15,
   "id": "2929f976",
   "metadata": {
    "ExecuteTime": {
     "end_time": "2022-04-16T18:38:02.168953Z",
     "start_time": "2022-04-16T18:38:00.665781Z"
    }
   },
   "outputs": [],
   "source": [
    "df_results.to_parquet('results.parquet')"
   ]
  },
  {
   "cell_type": "markdown",
   "id": "2bfa14ed",
   "metadata": {},
   "source": [
    "## Task 2-3: baseline model"
   ]
  },
  {
   "cell_type": "code",
   "execution_count": 2,
   "id": "d57aa4ee",
   "metadata": {
    "ExecuteTime": {
     "end_time": "2022-04-25T19:24:58.865223Z",
     "start_time": "2022-04-25T19:24:57.177570Z"
    }
   },
   "outputs": [],
   "source": [
    "df_results = pd.read_parquet('./results.parquet')\n",
    "df_tournaments = pd.read_parquet('./tournaments.parquet')\n",
    "df_players = pd.read_parquet('./players.parquet')\n",
    "\n",
    "# Используем только турниры, по которым есть метаинформация\n",
    "df_results = df_results[df_results['tournament_id'].isin(df_tournaments['id'])]\n",
    "\n",
    "# Используем турниры с непустой маской\n",
    "df_results = df_results[~df_results['mask'].isna()].reset_index(drop=True)\n",
    "\n",
    "# Используем турниры типов: 'Обычный', 'Синхрон', 'Строго синхронный'\n",
    "tournaments_id_use = df_tournaments.loc[df_tournaments['type_name'].isin(['Обычный', 'Синхрон', 'Строго синхронный']),'id'].values\n",
    "df_results = df_results[df_results['tournament_id'].isin(tournaments_id_use)].reset_index(drop=True)\n",
    "\n",
    "# Объединяем результаты с метаинформацией по турнирам\n",
    "df_results = df_results.merge(df_tournaments, left_on='tournament_id', right_on='id', how='left')\n",
    "df_results = df_results.sort_values('dateStart').reset_index(drop=True)\n",
    "df_results['year_start'] = df_results['dateStart'].apply(lambda x: int(x.split(\"-\")[0]))\n",
    "\n",
    "# Используем данные по турнирам за 2019 и 2020 годы\n",
    "df_results = df_results[df_results['year_start'].isin([2019, 2020])].reset_index(drop=True)"
   ]
  },
  {
   "cell_type": "markdown",
   "id": "a8239902",
   "metadata": {},
   "source": [
    "Сделаем упрощающее предположение, что сложность вопроса оценивается долей команд в турнире, которые на него верно ответили."
   ]
  },
  {
   "cell_type": "code",
   "execution_count": 3,
   "id": "97bd65b3",
   "metadata": {
    "ExecuteTime": {
     "end_time": "2022-04-25T19:25:02.260462Z",
     "start_time": "2022-04-25T19:25:02.248470Z"
    }
   },
   "outputs": [],
   "source": [
    "def nth_game(x, n):\n",
    "    if n < len(x):\n",
    "        return int(x[n].replace('X','0').replace('?','0'))\n",
    "    else:\n",
    "        return 0\n",
    "    \n",
    "def questions_difficulty(data):\n",
    "    year_start = data['year_start'].values[0]\n",
    "    df = data[['team_id', 'mask']].drop_duplicates()\n",
    "    num_questions = df['mask'].apply(len).max()\n",
    "\n",
    "    proportions = []\n",
    "    for i in range(num_questions):\n",
    "        proportions.append(df['mask'].apply(lambda x: nth_game(x, i)).mean())\n",
    "    df_res = pd.DataFrame()\n",
    "    df_res['question_order'] = np.arange(num_questions)\n",
    "    df_res['difficulty'] = proportions\n",
    "    df_res['year_start'] = year_start\n",
    "    return df_res"
   ]
  },
  {
   "cell_type": "code",
   "execution_count": 4,
   "id": "ee6d3525",
   "metadata": {
    "ExecuteTime": {
     "end_time": "2022-04-25T19:25:12.433157Z",
     "start_time": "2022-04-25T19:25:03.737003Z"
    }
   },
   "outputs": [
    {
     "data": {
      "application/vnd.jupyter.widget-view+json": {
       "model_id": "1118ea0be1d047ee81313f2887b7d3d9",
       "version_major": 2,
       "version_minor": 0
      },
      "text/plain": [
       "  0%|          | 0/763 [00:00<?, ?it/s]"
      ]
     },
     "metadata": {},
     "output_type": "display_data"
    }
   ],
   "source": [
    "df_questions = df_results.groupby('tournament_id').progress_apply(questions_difficulty).reset_index().drop(columns=['level_1'])"
   ]
  },
  {
   "cell_type": "code",
   "execution_count": 5,
   "id": "0ecfb574",
   "metadata": {
    "ExecuteTime": {
     "end_time": "2022-04-25T19:25:12.565944Z",
     "start_time": "2022-04-25T19:25:12.551020Z"
    }
   },
   "outputs": [
    {
     "data": {
      "text/html": [
       "<div>\n",
       "<style scoped>\n",
       "    .dataframe tbody tr th:only-of-type {\n",
       "        vertical-align: middle;\n",
       "    }\n",
       "\n",
       "    .dataframe tbody tr th {\n",
       "        vertical-align: top;\n",
       "    }\n",
       "\n",
       "    .dataframe thead th {\n",
       "        text-align: right;\n",
       "    }\n",
       "</style>\n",
       "<table border=\"1\" class=\"dataframe\">\n",
       "  <thead>\n",
       "    <tr style=\"text-align: right;\">\n",
       "      <th></th>\n",
       "      <th>tournament_id</th>\n",
       "      <th>question_order</th>\n",
       "      <th>difficulty</th>\n",
       "      <th>year_start</th>\n",
       "    </tr>\n",
       "  </thead>\n",
       "  <tbody>\n",
       "    <tr>\n",
       "      <th>0</th>\n",
       "      <td>4772</td>\n",
       "      <td>0</td>\n",
       "      <td>0.883117</td>\n",
       "      <td>2019</td>\n",
       "    </tr>\n",
       "    <tr>\n",
       "      <th>1</th>\n",
       "      <td>4772</td>\n",
       "      <td>1</td>\n",
       "      <td>0.779221</td>\n",
       "      <td>2019</td>\n",
       "    </tr>\n",
       "    <tr>\n",
       "      <th>2</th>\n",
       "      <td>4772</td>\n",
       "      <td>2</td>\n",
       "      <td>0.445887</td>\n",
       "      <td>2019</td>\n",
       "    </tr>\n",
       "    <tr>\n",
       "      <th>3</th>\n",
       "      <td>4772</td>\n",
       "      <td>3</td>\n",
       "      <td>0.519481</td>\n",
       "      <td>2019</td>\n",
       "    </tr>\n",
       "    <tr>\n",
       "      <th>4</th>\n",
       "      <td>4772</td>\n",
       "      <td>4</td>\n",
       "      <td>0.878788</td>\n",
       "      <td>2019</td>\n",
       "    </tr>\n",
       "  </tbody>\n",
       "</table>\n",
       "</div>"
      ],
      "text/plain": [
       "   tournament_id  question_order  difficulty  year_start\n",
       "0           4772               0    0.883117        2019\n",
       "1           4772               1    0.779221        2019\n",
       "2           4772               2    0.445887        2019\n",
       "3           4772               3    0.519481        2019\n",
       "4           4772               4    0.878788        2019"
      ]
     },
     "execution_count": 5,
     "metadata": {},
     "output_type": "execute_result"
    }
   ],
   "source": [
    "df_questions.head()"
   ]
  },
  {
   "cell_type": "markdown",
   "id": "a923c273",
   "metadata": {
    "ExecuteTime": {
     "end_time": "2022-04-24T18:22:00.172402Z",
     "start_time": "2022-04-24T18:22:00.154446Z"
    }
   },
   "source": [
    "Предположим, что \n",
    "* сила игрока выражается его рейтингом к моменту начала турнира (rating) (на самом деле на рейтинг влияют не только знания конкретного игрока, но и общая сила команд, в которых он играл),\n",
    "* если команда ответила на вопрос, то каждый из игроков ответил на вопрос (на самом деле мы не знаем, кто именно из команды ответил)"
   ]
  },
  {
   "cell_type": "code",
   "execution_count": 6,
   "id": "fae9edc6",
   "metadata": {
    "ExecuteTime": {
     "end_time": "2022-04-25T19:25:12.745168Z",
     "start_time": "2022-04-25T19:25:12.731447Z"
    }
   },
   "outputs": [],
   "source": [
    "def player_result(df):\n",
    "    mask = df['mask'].values[0]\n",
    "    num_questions = len(mask)\n",
    "    mask_list = [nth_game(mask, i) for i in range(num_questions)]\n",
    "    df_res = pd.DataFrame()\n",
    "    df_res['question_order'] = np.arange(num_questions)\n",
    "    df_res['target'] = mask_list\n",
    "    df_res['player_id'] = df['player_id'].values[0]\n",
    "    df_res['tournament_id'] = df['tournament_id'].values[0]\n",
    "    df_res['rating'] = df['rating'].values[0]\n",
    "    df_res['position'] = df['position'].values[0]\n",
    "    return df_res"
   ]
  },
  {
   "cell_type": "code",
   "execution_count": 7,
   "id": "7d702331",
   "metadata": {
    "ExecuteTime": {
     "end_time": "2022-04-25T19:37:58.758798Z",
     "start_time": "2022-04-25T19:25:14.473406Z"
    }
   },
   "outputs": [
    {
     "data": {
      "application/vnd.jupyter.widget-view+json": {
       "model_id": "e5740a216bb14466b6bc83aef5e71c42",
       "version_major": 2,
       "version_minor": 0
      },
      "text/plain": [
       "  0%|          | 0/400000 [00:00<?, ?it/s]"
      ]
     },
     "metadata": {},
     "output_type": "display_data"
    }
   ],
   "source": [
    "df_results_sample = df_results.sample(400000)\n",
    "\n",
    "df_player_results = df_results_sample.groupby(df_results_sample.index).progress_apply(player_result).reset_index(drop=True)"
   ]
  },
  {
   "cell_type": "code",
   "execution_count": 8,
   "id": "8bfc3678",
   "metadata": {
    "ExecuteTime": {
     "end_time": "2022-04-25T19:37:58.960318Z",
     "start_time": "2022-04-25T19:37:58.944662Z"
    }
   },
   "outputs": [
    {
     "data": {
      "text/html": [
       "<div>\n",
       "<style scoped>\n",
       "    .dataframe tbody tr th:only-of-type {\n",
       "        vertical-align: middle;\n",
       "    }\n",
       "\n",
       "    .dataframe tbody tr th {\n",
       "        vertical-align: top;\n",
       "    }\n",
       "\n",
       "    .dataframe thead th {\n",
       "        text-align: right;\n",
       "    }\n",
       "</style>\n",
       "<table border=\"1\" class=\"dataframe\">\n",
       "  <thead>\n",
       "    <tr style=\"text-align: right;\">\n",
       "      <th></th>\n",
       "      <th>question_order</th>\n",
       "      <th>target</th>\n",
       "      <th>player_id</th>\n",
       "      <th>tournament_id</th>\n",
       "      <th>rating</th>\n",
       "      <th>position</th>\n",
       "    </tr>\n",
       "  </thead>\n",
       "  <tbody>\n",
       "    <tr>\n",
       "      <th>0</th>\n",
       "      <td>0</td>\n",
       "      <td>1</td>\n",
       "      <td>168063</td>\n",
       "      <td>5266</td>\n",
       "      <td>1340</td>\n",
       "      <td>10.0</td>\n",
       "    </tr>\n",
       "    <tr>\n",
       "      <th>1</th>\n",
       "      <td>1</td>\n",
       "      <td>1</td>\n",
       "      <td>168063</td>\n",
       "      <td>5266</td>\n",
       "      <td>1340</td>\n",
       "      <td>10.0</td>\n",
       "    </tr>\n",
       "    <tr>\n",
       "      <th>2</th>\n",
       "      <td>2</td>\n",
       "      <td>1</td>\n",
       "      <td>168063</td>\n",
       "      <td>5266</td>\n",
       "      <td>1340</td>\n",
       "      <td>10.0</td>\n",
       "    </tr>\n",
       "    <tr>\n",
       "      <th>3</th>\n",
       "      <td>3</td>\n",
       "      <td>0</td>\n",
       "      <td>168063</td>\n",
       "      <td>5266</td>\n",
       "      <td>1340</td>\n",
       "      <td>10.0</td>\n",
       "    </tr>\n",
       "    <tr>\n",
       "      <th>4</th>\n",
       "      <td>4</td>\n",
       "      <td>0</td>\n",
       "      <td>168063</td>\n",
       "      <td>5266</td>\n",
       "      <td>1340</td>\n",
       "      <td>10.0</td>\n",
       "    </tr>\n",
       "  </tbody>\n",
       "</table>\n",
       "</div>"
      ],
      "text/plain": [
       "   question_order  target  player_id  tournament_id  rating  position\n",
       "0               0       1     168063           5266    1340      10.0\n",
       "1               1       1     168063           5266    1340      10.0\n",
       "2               2       1     168063           5266    1340      10.0\n",
       "3               3       0     168063           5266    1340      10.0\n",
       "4               4       0     168063           5266    1340      10.0"
      ]
     },
     "execution_count": 8,
     "metadata": {},
     "output_type": "execute_result"
    }
   ],
   "source": [
    "df_player_results.head()"
   ]
  },
  {
   "cell_type": "markdown",
   "id": "4106033e",
   "metadata": {},
   "source": [
    "Объединим информацию об ответах на вопросы с информацией по игрокам."
   ]
  },
  {
   "cell_type": "code",
   "execution_count": 9,
   "id": "f0547aa4",
   "metadata": {
    "ExecuteTime": {
     "end_time": "2022-04-25T19:38:01.248074Z",
     "start_time": "2022-04-25T19:37:59.161314Z"
    }
   },
   "outputs": [],
   "source": [
    "df_res = df_questions.merge(df_player_results, how='inner', on=['tournament_id', 'question_order'], validate='1:m')"
   ]
  },
  {
   "cell_type": "code",
   "execution_count": 10,
   "id": "1a023e9b",
   "metadata": {
    "ExecuteTime": {
     "end_time": "2022-04-25T19:38:01.459669Z",
     "start_time": "2022-04-25T19:38:01.442235Z"
    }
   },
   "outputs": [
    {
     "data": {
      "text/html": [
       "<div>\n",
       "<style scoped>\n",
       "    .dataframe tbody tr th:only-of-type {\n",
       "        vertical-align: middle;\n",
       "    }\n",
       "\n",
       "    .dataframe tbody tr th {\n",
       "        vertical-align: top;\n",
       "    }\n",
       "\n",
       "    .dataframe thead th {\n",
       "        text-align: right;\n",
       "    }\n",
       "</style>\n",
       "<table border=\"1\" class=\"dataframe\">\n",
       "  <thead>\n",
       "    <tr style=\"text-align: right;\">\n",
       "      <th></th>\n",
       "      <th>tournament_id</th>\n",
       "      <th>question_order</th>\n",
       "      <th>difficulty</th>\n",
       "      <th>year_start</th>\n",
       "      <th>target</th>\n",
       "      <th>player_id</th>\n",
       "      <th>rating</th>\n",
       "      <th>position</th>\n",
       "    </tr>\n",
       "  </thead>\n",
       "  <tbody>\n",
       "    <tr>\n",
       "      <th>0</th>\n",
       "      <td>4772</td>\n",
       "      <td>0</td>\n",
       "      <td>0.883117</td>\n",
       "      <td>2019</td>\n",
       "      <td>1</td>\n",
       "      <td>6212</td>\n",
       "      <td>13507</td>\n",
       "      <td>1.0</td>\n",
       "    </tr>\n",
       "    <tr>\n",
       "      <th>1</th>\n",
       "      <td>4772</td>\n",
       "      <td>0</td>\n",
       "      <td>0.883117</td>\n",
       "      <td>2019</td>\n",
       "      <td>1</td>\n",
       "      <td>173294</td>\n",
       "      <td>375</td>\n",
       "      <td>228.5</td>\n",
       "    </tr>\n",
       "    <tr>\n",
       "      <th>2</th>\n",
       "      <td>4772</td>\n",
       "      <td>0</td>\n",
       "      <td>0.883117</td>\n",
       "      <td>2019</td>\n",
       "      <td>1</td>\n",
       "      <td>173292</td>\n",
       "      <td>375</td>\n",
       "      <td>228.5</td>\n",
       "    </tr>\n",
       "    <tr>\n",
       "      <th>3</th>\n",
       "      <td>4772</td>\n",
       "      <td>0</td>\n",
       "      <td>0.883117</td>\n",
       "      <td>2019</td>\n",
       "      <td>1</td>\n",
       "      <td>145477</td>\n",
       "      <td>459</td>\n",
       "      <td>228.5</td>\n",
       "    </tr>\n",
       "    <tr>\n",
       "      <th>4</th>\n",
       "      <td>4772</td>\n",
       "      <td>0</td>\n",
       "      <td>0.883117</td>\n",
       "      <td>2019</td>\n",
       "      <td>1</td>\n",
       "      <td>145834</td>\n",
       "      <td>536</td>\n",
       "      <td>228.5</td>\n",
       "    </tr>\n",
       "  </tbody>\n",
       "</table>\n",
       "</div>"
      ],
      "text/plain": [
       "   tournament_id  question_order  difficulty  year_start  target  player_id  \\\n",
       "0           4772               0    0.883117        2019       1       6212   \n",
       "1           4772               0    0.883117        2019       1     173294   \n",
       "2           4772               0    0.883117        2019       1     173292   \n",
       "3           4772               0    0.883117        2019       1     145477   \n",
       "4           4772               0    0.883117        2019       1     145834   \n",
       "\n",
       "   rating  position  \n",
       "0   13507       1.0  \n",
       "1     375     228.5  \n",
       "2     375     228.5  \n",
       "3     459     228.5  \n",
       "4     536     228.5  "
      ]
     },
     "execution_count": 10,
     "metadata": {},
     "output_type": "execute_result"
    }
   ],
   "source": [
    "df_res.head()"
   ]
  },
  {
   "cell_type": "code",
   "execution_count": 11,
   "id": "176ee59e",
   "metadata": {
    "ExecuteTime": {
     "end_time": "2022-04-25T19:38:03.099259Z",
     "start_time": "2022-04-25T19:38:01.646086Z"
    }
   },
   "outputs": [],
   "source": [
    "train = df_res[df_res['year_start'] == 2019].dropna().reset_index(drop=True)\n",
    "test = df_res[df_res['year_start'] == 2020].dropna().reset_index(drop=True)"
   ]
  },
  {
   "cell_type": "markdown",
   "id": "bdbb2264",
   "metadata": {},
   "source": [
    "В качестве признаков выступают рейтинг игрока и сложность вопроса, а в качестве таргета ответил ли игрок на вопрос.\n",
    "В качетсве baseline модели используем логистическую регрессию."
   ]
  },
  {
   "cell_type": "code",
   "execution_count": 12,
   "id": "032dccf4",
   "metadata": {
    "ExecuteTime": {
     "end_time": "2022-04-25T19:38:03.390086Z",
     "start_time": "2022-04-25T19:38:03.311622Z"
    }
   },
   "outputs": [],
   "source": [
    "features = ['rating', 'difficulty']\n",
    "\n",
    "X_train = train[features]\n",
    "Y_train = train['target']\n",
    "X_test = test[features]\n",
    "Y_test = test['target']"
   ]
  },
  {
   "cell_type": "code",
   "execution_count": 13,
   "id": "db7799fc",
   "metadata": {
    "ExecuteTime": {
     "end_time": "2022-04-25T19:38:09.178546Z",
     "start_time": "2022-04-25T19:38:03.667896Z"
    }
   },
   "outputs": [],
   "source": [
    "from sklearn.linear_model import LogisticRegression\n",
    "from sklearn.preprocessing import StandardScaler\n",
    "\n",
    "scaler = StandardScaler()\n",
    "X_train_scaled = scaler.fit_transform(X_train)\n",
    "X_test_scaled = scaler.transform(X_test)\n",
    "linear_model = LogisticRegression()\n",
    "linear_model.fit(X_train_scaled, Y_train)\n",
    "\n",
    "test['target_pred'] = linear_model.predict_proba(X_test_scaled)[:, 1]"
   ]
  },
  {
   "cell_type": "code",
   "execution_count": 14,
   "id": "a10d9044",
   "metadata": {
    "ExecuteTime": {
     "end_time": "2022-04-25T19:38:10.003644Z",
     "start_time": "2022-04-25T19:38:09.474389Z"
    }
   },
   "outputs": [],
   "source": [
    "# Как игрок в среднем отвечает во время турнира\n",
    "test_pred = test.groupby(['player_id', 'tournament_id']).agg(target_pred_mean=('target_pred', 'mean')).reset_index()\n",
    "test_true = test.groupby(['player_id', 'tournament_id']).first().reset_index()\n",
    "test_res = test_true.merge(test_pred, how='left')"
   ]
  },
  {
   "cell_type": "markdown",
   "id": "b3b2a5e0",
   "metadata": {},
   "source": [
    "### Метрики baseline модели"
   ]
  },
  {
   "cell_type": "code",
   "execution_count": 15,
   "id": "e17aba47",
   "metadata": {
    "ExecuteTime": {
     "end_time": "2022-04-25T19:38:10.455776Z",
     "start_time": "2022-04-25T19:38:10.299868Z"
    }
   },
   "outputs": [
    {
     "name": "stdout",
     "output_type": "stream",
     "text": [
      "Spearman correlation = 0.7133\n",
      "Kendall correlation = 0.5522\n"
     ]
    }
   ],
   "source": [
    "corr_spearman = test_res.groupby('tournament_id').apply(lambda x: spearmanr(x['target_pred_mean'], x['position'])[0])\n",
    "print(f'Spearman correlation = {-corr_spearman.mean():.4f}')\n",
    "\n",
    "corr_kendall = test_res.groupby('tournament_id').apply(lambda x: kendalltau(x['target_pred_mean'], x['position'])[0])\n",
    "print(f'Kendall correlation = {-corr_kendall.mean():.4f}')"
   ]
  },
  {
   "cell_type": "markdown",
   "id": "cae2ab31",
   "metadata": {},
   "source": [
    "## Task 4: EM-algorithm"
   ]
  },
  {
   "cell_type": "code",
   "execution_count": 16,
   "id": "ac0e40f3",
   "metadata": {
    "ExecuteTime": {
     "end_time": "2022-04-25T19:38:57.397193Z",
     "start_time": "2022-04-25T19:38:57.392356Z"
    }
   },
   "outputs": [],
   "source": [
    "def nth_game(x, n):\n",
    "    if n < len(x):\n",
    "        return int(x[n].replace('X','0').replace('?','0'))\n",
    "    else:\n",
    "        return 0"
   ]
  },
  {
   "cell_type": "code",
   "execution_count": 17,
   "id": "19581c20",
   "metadata": {
    "ExecuteTime": {
     "end_time": "2022-04-25T19:38:58.429082Z",
     "start_time": "2022-04-25T19:38:58.343410Z"
    }
   },
   "outputs": [],
   "source": [
    "df_tournaments['offset'] = df_tournaments['num_questions'].cumsum()\n",
    "\n",
    "df_offset = df_results[['tournament_id', 'num_questions']].groupby('tournament_id').first().reset_index()\n",
    "df_offset['offset'] = df_offset['num_questions'].cumsum()\n",
    "df_offset = df_offset[['tournament_id', 'offset']]\n",
    "\n",
    "df_results = df_results.merge(df_offset)"
   ]
  },
  {
   "cell_type": "code",
   "execution_count": 18,
   "id": "63731bb7",
   "metadata": {
    "ExecuteTime": {
     "end_time": "2022-04-25T19:38:59.370538Z",
     "start_time": "2022-04-25T19:38:59.359567Z"
    }
   },
   "outputs": [],
   "source": [
    "# Проиндексируем вопросы по всем турнирам и построим датасет, как каждый игрок отвечает на каждый вопрос,\n",
    "# в качестве индекса игрока используется player_id\n",
    "def player_questions(data):\n",
    "    player_id = data['player_id'].values[0]\n",
    "    max_question_id = data['offset'].values[0]\n",
    "    num_questions = data['num_questions'].values[0]\n",
    "    min_question_id = max_question_id - data['num_questions'].values[0]\n",
    "    mask = data['mask'].values[0]\n",
    "    year_start = data['year_start'].values[0]\n",
    "    tournament_id = data['tournament_id'].values[0]\n",
    "    team_id = data['team_id'].values[0]\n",
    "    records = []\n",
    "    for i in range(num_questions):\n",
    "        records.append((player_id, i + min_question_id, nth_game(mask, i), year_start, tournament_id, team_id))\n",
    "        \n",
    "    return pd.DataFrame(records, columns=['player_id', 'question_id', 'target', 'year_start', 'tournament_id', 'team_id'])"
   ]
  },
  {
   "cell_type": "code",
   "execution_count": 19,
   "id": "ac57cd2a",
   "metadata": {
    "ExecuteTime": {
     "end_time": "2022-04-25T19:46:21.247626Z",
     "start_time": "2022-04-25T19:39:01.312106Z"
    }
   },
   "outputs": [
    {
     "data": {
      "application/vnd.jupyter.widget-view+json": {
       "model_id": "782252417fa34fc18950e3c0758251e4",
       "version_major": 2,
       "version_minor": 0
      },
      "text/plain": [
       "  0%|          | 0/447488 [00:00<?, ?it/s]"
      ]
     },
     "metadata": {},
     "output_type": "display_data"
    }
   ],
   "source": [
    "df_player_question = df_results.groupby(df_results.index).progress_apply(player_questions).reset_index().drop(columns=['level_0', 'level_1'])"
   ]
  },
  {
   "cell_type": "code",
   "execution_count": 20,
   "id": "7827b4c3",
   "metadata": {
    "ExecuteTime": {
     "end_time": "2022-04-25T19:46:21.971126Z",
     "start_time": "2022-04-25T19:46:21.956667Z"
    }
   },
   "outputs": [
    {
     "data": {
      "text/html": [
       "<div>\n",
       "<style scoped>\n",
       "    .dataframe tbody tr th:only-of-type {\n",
       "        vertical-align: middle;\n",
       "    }\n",
       "\n",
       "    .dataframe tbody tr th {\n",
       "        vertical-align: top;\n",
       "    }\n",
       "\n",
       "    .dataframe thead th {\n",
       "        text-align: right;\n",
       "    }\n",
       "</style>\n",
       "<table border=\"1\" class=\"dataframe\">\n",
       "  <thead>\n",
       "    <tr style=\"text-align: right;\">\n",
       "      <th></th>\n",
       "      <th>player_id</th>\n",
       "      <th>question_id</th>\n",
       "      <th>target</th>\n",
       "      <th>year_start</th>\n",
       "      <th>tournament_id</th>\n",
       "      <th>team_id</th>\n",
       "    </tr>\n",
       "  </thead>\n",
       "  <tbody>\n",
       "    <tr>\n",
       "      <th>0</th>\n",
       "      <td>144692</td>\n",
       "      <td>2189</td>\n",
       "      <td>1</td>\n",
       "      <td>2019</td>\n",
       "      <td>5266</td>\n",
       "      <td>66342</td>\n",
       "    </tr>\n",
       "    <tr>\n",
       "      <th>1</th>\n",
       "      <td>144692</td>\n",
       "      <td>2190</td>\n",
       "      <td>0</td>\n",
       "      <td>2019</td>\n",
       "      <td>5266</td>\n",
       "      <td>66342</td>\n",
       "    </tr>\n",
       "    <tr>\n",
       "      <th>2</th>\n",
       "      <td>144692</td>\n",
       "      <td>2191</td>\n",
       "      <td>1</td>\n",
       "      <td>2019</td>\n",
       "      <td>5266</td>\n",
       "      <td>66342</td>\n",
       "    </tr>\n",
       "    <tr>\n",
       "      <th>3</th>\n",
       "      <td>144692</td>\n",
       "      <td>2192</td>\n",
       "      <td>1</td>\n",
       "      <td>2019</td>\n",
       "      <td>5266</td>\n",
       "      <td>66342</td>\n",
       "    </tr>\n",
       "    <tr>\n",
       "      <th>4</th>\n",
       "      <td>144692</td>\n",
       "      <td>2193</td>\n",
       "      <td>0</td>\n",
       "      <td>2019</td>\n",
       "      <td>5266</td>\n",
       "      <td>66342</td>\n",
       "    </tr>\n",
       "  </tbody>\n",
       "</table>\n",
       "</div>"
      ],
      "text/plain": [
       "   player_id  question_id  target  year_start  tournament_id  team_id\n",
       "0     144692         2189       1        2019           5266    66342\n",
       "1     144692         2190       0        2019           5266    66342\n",
       "2     144692         2191       1        2019           5266    66342\n",
       "3     144692         2192       1        2019           5266    66342\n",
       "4     144692         2193       0        2019           5266    66342"
      ]
     },
     "execution_count": 20,
     "metadata": {},
     "output_type": "execute_result"
    }
   ],
   "source": [
    "df_player_question.head()"
   ]
  },
  {
   "cell_type": "code",
   "execution_count": 21,
   "id": "51ace5bc",
   "metadata": {
    "ExecuteTime": {
     "end_time": "2022-04-25T19:46:23.896055Z",
     "start_time": "2022-04-25T19:46:22.700842Z"
    }
   },
   "outputs": [],
   "source": [
    "df_player_question.to_parquet('player_question.parquet')"
   ]
  },
  {
   "cell_type": "code",
   "execution_count": 22,
   "id": "88842ee4",
   "metadata": {
    "ExecuteTime": {
     "end_time": "2022-04-25T19:46:25.049857Z",
     "start_time": "2022-04-25T19:46:24.588301Z"
    }
   },
   "outputs": [],
   "source": [
    "df_player_question = pd.read_parquet('player_question.parquet')"
   ]
  },
  {
   "cell_type": "code",
   "execution_count": 36,
   "id": "53f95686",
   "metadata": {
    "ExecuteTime": {
     "end_time": "2022-04-25T20:20:02.573126Z",
     "start_time": "2022-04-25T20:20:02.004814Z"
    }
   },
   "outputs": [],
   "source": [
    "train = df_player_question[df_player_question['year_start'] == 2019].reset_index(drop=True)"
   ]
  },
  {
   "cell_type": "code",
   "execution_count": 37,
   "id": "1d1a6e71",
   "metadata": {
    "ExecuteTime": {
     "end_time": "2022-04-25T20:20:07.583372Z",
     "start_time": "2022-04-25T20:20:07.568469Z"
    }
   },
   "outputs": [
    {
     "data": {
      "text/html": [
       "<div>\n",
       "<style scoped>\n",
       "    .dataframe tbody tr th:only-of-type {\n",
       "        vertical-align: middle;\n",
       "    }\n",
       "\n",
       "    .dataframe tbody tr th {\n",
       "        vertical-align: top;\n",
       "    }\n",
       "\n",
       "    .dataframe thead th {\n",
       "        text-align: right;\n",
       "    }\n",
       "</style>\n",
       "<table border=\"1\" class=\"dataframe\">\n",
       "  <thead>\n",
       "    <tr style=\"text-align: right;\">\n",
       "      <th></th>\n",
       "      <th>player_id</th>\n",
       "      <th>question_id</th>\n",
       "      <th>target</th>\n",
       "      <th>year_start</th>\n",
       "      <th>tournament_id</th>\n",
       "      <th>team_id</th>\n",
       "    </tr>\n",
       "  </thead>\n",
       "  <tbody>\n",
       "    <tr>\n",
       "      <th>0</th>\n",
       "      <td>144692</td>\n",
       "      <td>2189</td>\n",
       "      <td>1</td>\n",
       "      <td>2019</td>\n",
       "      <td>5266</td>\n",
       "      <td>66342</td>\n",
       "    </tr>\n",
       "    <tr>\n",
       "      <th>1</th>\n",
       "      <td>144692</td>\n",
       "      <td>2190</td>\n",
       "      <td>0</td>\n",
       "      <td>2019</td>\n",
       "      <td>5266</td>\n",
       "      <td>66342</td>\n",
       "    </tr>\n",
       "    <tr>\n",
       "      <th>2</th>\n",
       "      <td>144692</td>\n",
       "      <td>2191</td>\n",
       "      <td>1</td>\n",
       "      <td>2019</td>\n",
       "      <td>5266</td>\n",
       "      <td>66342</td>\n",
       "    </tr>\n",
       "    <tr>\n",
       "      <th>3</th>\n",
       "      <td>144692</td>\n",
       "      <td>2192</td>\n",
       "      <td>1</td>\n",
       "      <td>2019</td>\n",
       "      <td>5266</td>\n",
       "      <td>66342</td>\n",
       "    </tr>\n",
       "    <tr>\n",
       "      <th>4</th>\n",
       "      <td>144692</td>\n",
       "      <td>2193</td>\n",
       "      <td>0</td>\n",
       "      <td>2019</td>\n",
       "      <td>5266</td>\n",
       "      <td>66342</td>\n",
       "    </tr>\n",
       "  </tbody>\n",
       "</table>\n",
       "</div>"
      ],
      "text/plain": [
       "   player_id  question_id  target  year_start  tournament_id  team_id\n",
       "0     144692         2189       1        2019           5266    66342\n",
       "1     144692         2190       0        2019           5266    66342\n",
       "2     144692         2191       1        2019           5266    66342\n",
       "3     144692         2192       1        2019           5266    66342\n",
       "4     144692         2193       0        2019           5266    66342"
      ]
     },
     "execution_count": 37,
     "metadata": {},
     "output_type": "execute_result"
    }
   ],
   "source": [
    "train.head()"
   ]
  },
  {
   "cell_type": "code",
   "execution_count": 38,
   "id": "41a57b63",
   "metadata": {
    "ExecuteTime": {
     "end_time": "2022-04-25T20:20:12.607401Z",
     "start_time": "2022-04-25T20:20:12.588728Z"
    }
   },
   "outputs": [],
   "source": [
    "from sklearn.preprocessing import OneHotEncoder\n",
    "from scipy.sparse import hstack\n",
    "from sklearn.linear_model import LogisticRegression\n",
    "\n",
    "def init_z(target):\n",
    "    zs = np.random.rand(*target.shape)\n",
    "    zs[target == 0] = 0\n",
    "    return zs\n",
    "\n",
    "# Фиксируем силу игрока, сложность вопроса и вычисляем ожидания скрытых переменных E(z)\n",
    "def e_step(data):\n",
    "    data = data.copy()\n",
    "    data['1_pred'] = 1 - data['pred']\n",
    "    denom = (1 - data.groupby(['team_id', 'question_id'])['1_pred'].prod()).reset_index()\n",
    "    denom.columns = ['team_id', 'question_id', 'denom']\n",
    "    data = data.merge(denom, how='left')\n",
    "    result = data['pred'] / data['denom']\n",
    "    result[data['target'] == 0] = 0\n",
    "    return result\n",
    "\n",
    "# Обучаем логистическую модель при фиксированных E(z)\n",
    "def m_step(data):\n",
    "    data = data.copy()\n",
    "    data_extra = data.copy()\n",
    "    data['class'] = 1\n",
    "    data['weight'] = data['zs']\n",
    "    data_extra['class'] = 0\n",
    "    data_extra['weight'] = 1 - data['zs']\n",
    "    data_all = pd.concat([data, data_extra], axis=0)\n",
    "    model = LogisticRegression()\n",
    "    model.fit(train_all_features, data_all['class'], sample_weight=data_all['weight'])\n",
    "    return model.predict_proba(train_features)[:, 1], model"
   ]
  },
  {
   "cell_type": "code",
   "execution_count": 39,
   "id": "75407e29",
   "metadata": {
    "ExecuteTime": {
     "end_time": "2022-04-25T20:20:18.570818Z",
     "start_time": "2022-04-25T20:20:17.536994Z"
    }
   },
   "outputs": [
    {
     "data": {
      "text/plain": [
       "(29324218, 9)"
      ]
     },
     "execution_count": 39,
     "metadata": {},
     "output_type": "execute_result"
    }
   ],
   "source": [
    "train['zs'] = init_z(train['target'])\n",
    "\n",
    "train_extra = train.copy()\n",
    "train['class'] = 1\n",
    "train['weight'] = train['zs']\n",
    "train_extra['class'] = 0\n",
    "train_extra['weight'] = 1 - train['zs']\n",
    "train_all = pd.concat([train, train_extra], axis=0)\n",
    "train_all.shape"
   ]
  },
  {
   "cell_type": "markdown",
   "id": "8cbc35bd",
   "metadata": {
    "ExecuteTime": {
     "end_time": "2022-04-25T18:30:45.569599Z",
     "start_time": "2022-04-25T18:30:44.694691Z"
    }
   },
   "source": [
    "Рассчитаем все фичи по игрокам и вопросам через OneHotEncoder"
   ]
  },
  {
   "cell_type": "code",
   "execution_count": 40,
   "id": "3e71a04a",
   "metadata": {
    "ExecuteTime": {
     "end_time": "2022-04-25T20:20:33.409432Z",
     "start_time": "2022-04-25T20:20:23.555979Z"
    }
   },
   "outputs": [],
   "source": [
    "ohe_player = OneHotEncoder()\n",
    "first = ohe_player.fit_transform(train_all[['player_id']])\n",
    "ohe_question = OneHotEncoder()\n",
    "second = ohe_question.fit_transform(train_all[['question_id']])\n",
    "train_all_features = hstack([first, second])\n",
    "\n",
    "first = ohe_player.transform(train[['player_id']])\n",
    "second = ohe_question.transform(train[['question_id']])\n",
    "train_features = hstack([first, second])"
   ]
  },
  {
   "cell_type": "code",
   "execution_count": 41,
   "id": "941f13a2",
   "metadata": {
    "ExecuteTime": {
     "end_time": "2022-04-25T20:23:17.974377Z",
     "start_time": "2022-04-25T20:20:38.282341Z"
    }
   },
   "outputs": [
    {
     "name": "stderr",
     "output_type": "stream",
     "text": [
      "C:\\Users\\s-ir\\.julia\\conda\\3\\envs\\ml2\\lib\\site-packages\\sklearn\\linear_model\\_logistic.py:814: ConvergenceWarning: lbfgs failed to converge (status=1):\n",
      "STOP: TOTAL NO. of ITERATIONS REACHED LIMIT.\n",
      "\n",
      "Increase the number of iterations (max_iter) or scale the data as shown in:\n",
      "    https://scikit-learn.org/stable/modules/preprocessing.html\n",
      "Please also refer to the documentation for alternative solver options:\n",
      "    https://scikit-learn.org/stable/modules/linear_model.html#logistic-regression\n",
      "  n_iter_i = _check_optimize_result(\n"
     ]
    }
   ],
   "source": [
    "train['pred'], model = m_step(train[['zs']])"
   ]
  },
  {
   "cell_type": "code",
   "execution_count": 42,
   "id": "63cd7f8b",
   "metadata": {
    "ExecuteTime": {
     "end_time": "2022-04-25T20:28:34.006164Z",
     "start_time": "2022-04-25T20:23:23.087261Z"
    }
   },
   "outputs": [
    {
     "data": {
      "application/vnd.jupyter.widget-view+json": {
       "model_id": "67571fce103e4289808a22e10e9798ea",
       "version_major": 2,
       "version_minor": 0
      },
      "text/plain": [
       "  0%|          | 0/2 [00:00<?, ?it/s]"
      ]
     },
     "metadata": {},
     "output_type": "display_data"
    },
    {
     "name": "stderr",
     "output_type": "stream",
     "text": [
      "C:\\Users\\s-ir\\.julia\\conda\\3\\envs\\ml2\\lib\\site-packages\\sklearn\\linear_model\\_logistic.py:814: ConvergenceWarning: lbfgs failed to converge (status=1):\n",
      "STOP: TOTAL NO. of ITERATIONS REACHED LIMIT.\n",
      "\n",
      "Increase the number of iterations (max_iter) or scale the data as shown in:\n",
      "    https://scikit-learn.org/stable/modules/preprocessing.html\n",
      "Please also refer to the documentation for alternative solver options:\n",
      "    https://scikit-learn.org/stable/modules/linear_model.html#logistic-regression\n",
      "  n_iter_i = _check_optimize_result(\n",
      "C:\\Users\\s-ir\\.julia\\conda\\3\\envs\\ml2\\lib\\site-packages\\sklearn\\linear_model\\_logistic.py:814: ConvergenceWarning: lbfgs failed to converge (status=1):\n",
      "STOP: TOTAL NO. of ITERATIONS REACHED LIMIT.\n",
      "\n",
      "Increase the number of iterations (max_iter) or scale the data as shown in:\n",
      "    https://scikit-learn.org/stable/modules/preprocessing.html\n",
      "Please also refer to the documentation for alternative solver options:\n",
      "    https://scikit-learn.org/stable/modules/linear_model.html#logistic-regression\n",
      "  n_iter_i = _check_optimize_result(\n"
     ]
    }
   ],
   "source": [
    "for i in tqdm(range(2)):\n",
    "    train['zs'] = e_step(train)\n",
    "    train['pred'], model = m_step(train[['zs']])"
   ]
  },
  {
   "cell_type": "code",
   "execution_count": 43,
   "id": "b94c3ab3",
   "metadata": {
    "ExecuteTime": {
     "end_time": "2022-04-25T20:28:38.961254Z",
     "start_time": "2022-04-25T20:28:38.932515Z"
    }
   },
   "outputs": [],
   "source": [
    "df_ranking = pd.DataFrame()\n",
    "df_ranking['player_id'] = ohe_player.categories_[0]\n",
    "df_ranking['rank'] = model.coef_[0][:len(ohe_player.categories_[0])]"
   ]
  },
  {
   "cell_type": "code",
   "execution_count": 44,
   "id": "d0d7d61a",
   "metadata": {
    "ExecuteTime": {
     "end_time": "2022-04-25T20:28:43.941467Z",
     "start_time": "2022-04-25T20:28:43.926512Z"
    }
   },
   "outputs": [
    {
     "data": {
      "text/html": [
       "<div>\n",
       "<style scoped>\n",
       "    .dataframe tbody tr th:only-of-type {\n",
       "        vertical-align: middle;\n",
       "    }\n",
       "\n",
       "    .dataframe tbody tr th {\n",
       "        vertical-align: top;\n",
       "    }\n",
       "\n",
       "    .dataframe thead th {\n",
       "        text-align: right;\n",
       "    }\n",
       "</style>\n",
       "<table border=\"1\" class=\"dataframe\">\n",
       "  <thead>\n",
       "    <tr style=\"text-align: right;\">\n",
       "      <th></th>\n",
       "      <th>player_id</th>\n",
       "      <th>rank</th>\n",
       "    </tr>\n",
       "  </thead>\n",
       "  <tbody>\n",
       "    <tr>\n",
       "      <th>6592</th>\n",
       "      <td>56647</td>\n",
       "      <td>2.231587</td>\n",
       "    </tr>\n",
       "    <tr>\n",
       "      <th>1894</th>\n",
       "      <td>13689</td>\n",
       "      <td>2.243943</td>\n",
       "    </tr>\n",
       "    <tr>\n",
       "      <th>978</th>\n",
       "      <td>7008</td>\n",
       "      <td>2.258806</td>\n",
       "    </tr>\n",
       "    <tr>\n",
       "      <th>9134</th>\n",
       "      <td>87637</td>\n",
       "      <td>2.263253</td>\n",
       "    </tr>\n",
       "    <tr>\n",
       "      <th>3871</th>\n",
       "      <td>27822</td>\n",
       "      <td>2.273858</td>\n",
       "    </tr>\n",
       "    <tr>\n",
       "      <th>3183</th>\n",
       "      <td>22799</td>\n",
       "      <td>2.287421</td>\n",
       "    </tr>\n",
       "    <tr>\n",
       "      <th>3623</th>\n",
       "      <td>26089</td>\n",
       "      <td>2.287840</td>\n",
       "    </tr>\n",
       "    <tr>\n",
       "      <th>2365</th>\n",
       "      <td>16837</td>\n",
       "      <td>2.298317</td>\n",
       "    </tr>\n",
       "    <tr>\n",
       "      <th>1488</th>\n",
       "      <td>10660</td>\n",
       "      <td>2.306190</td>\n",
       "    </tr>\n",
       "    <tr>\n",
       "      <th>4190</th>\n",
       "      <td>30270</td>\n",
       "      <td>2.310150</td>\n",
       "    </tr>\n",
       "    <tr>\n",
       "      <th>3033</th>\n",
       "      <td>21698</td>\n",
       "      <td>2.310540</td>\n",
       "    </tr>\n",
       "    <tr>\n",
       "      <th>3000</th>\n",
       "      <td>21487</td>\n",
       "      <td>2.329042</td>\n",
       "    </tr>\n",
       "    <tr>\n",
       "      <th>3842</th>\n",
       "      <td>27622</td>\n",
       "      <td>2.360168</td>\n",
       "    </tr>\n",
       "    <tr>\n",
       "      <th>2827</th>\n",
       "      <td>20207</td>\n",
       "      <td>2.378897</td>\n",
       "    </tr>\n",
       "    <tr>\n",
       "      <th>8003</th>\n",
       "      <td>74001</td>\n",
       "      <td>2.405634</td>\n",
       "    </tr>\n",
       "    <tr>\n",
       "      <th>4170</th>\n",
       "      <td>30152</td>\n",
       "      <td>2.443810</td>\n",
       "    </tr>\n",
       "    <tr>\n",
       "      <th>3986</th>\n",
       "      <td>28751</td>\n",
       "      <td>2.479153</td>\n",
       "    </tr>\n",
       "    <tr>\n",
       "      <th>598</th>\n",
       "      <td>4270</td>\n",
       "      <td>2.481592</td>\n",
       "    </tr>\n",
       "    <tr>\n",
       "      <th>4185</th>\n",
       "      <td>30260</td>\n",
       "      <td>2.569439</td>\n",
       "    </tr>\n",
       "    <tr>\n",
       "      <th>3800</th>\n",
       "      <td>27403</td>\n",
       "      <td>2.720250</td>\n",
       "    </tr>\n",
       "  </tbody>\n",
       "</table>\n",
       "</div>"
      ],
      "text/plain": [
       "      player_id      rank\n",
       "6592      56647  2.231587\n",
       "1894      13689  2.243943\n",
       "978        7008  2.258806\n",
       "9134      87637  2.263253\n",
       "3871      27822  2.273858\n",
       "3183      22799  2.287421\n",
       "3623      26089  2.287840\n",
       "2365      16837  2.298317\n",
       "1488      10660  2.306190\n",
       "4190      30270  2.310150\n",
       "3033      21698  2.310540\n",
       "3000      21487  2.329042\n",
       "3842      27622  2.360168\n",
       "2827      20207  2.378897\n",
       "8003      74001  2.405634\n",
       "4170      30152  2.443810\n",
       "3986      28751  2.479153\n",
       "598        4270  2.481592\n",
       "4185      30260  2.569439\n",
       "3800      27403  2.720250"
      ]
     },
     "execution_count": 44,
     "metadata": {},
     "output_type": "execute_result"
    }
   ],
   "source": [
    "df_ranking.sort_values(by='rank').tail(20)"
   ]
  },
  {
   "cell_type": "code",
   "execution_count": 45,
   "id": "7539099a",
   "metadata": {
    "ExecuteTime": {
     "end_time": "2022-04-25T20:28:49.253763Z",
     "start_time": "2022-04-25T20:28:48.931341Z"
    }
   },
   "outputs": [],
   "source": [
    "em_test_res = test.merge(df_ranking, on='player_id', how='left')"
   ]
  },
  {
   "cell_type": "code",
   "execution_count": 46,
   "id": "3f1637c6",
   "metadata": {
    "ExecuteTime": {
     "end_time": "2022-04-25T20:28:54.619239Z",
     "start_time": "2022-04-25T20:28:54.167413Z"
    }
   },
   "outputs": [
    {
     "name": "stdout",
     "output_type": "stream",
     "text": [
      "Spearman correlation = 0.6787\n",
      "Kendall correlation = 0.5480\n"
     ]
    }
   ],
   "source": [
    "corr_spearman = em_test_res.groupby('tournament_id').apply(lambda x: spearmanr(x['rank'], x['position'])[0])\n",
    "print(f'Spearman correlation = {-corr_spearman.mean():.4f}')\n",
    "\n",
    "corr_kendall = em_test_res.groupby('tournament_id').apply(lambda x: kendalltau(x['rank'], x['position'])[0])\n",
    "print(f'Kendall correlation = {-corr_kendall.mean():.4f}')"
   ]
  },
  {
   "cell_type": "markdown",
   "id": "9921f97e",
   "metadata": {},
   "source": [
    "### Топовые игроки"
   ]
  },
  {
   "cell_type": "code",
   "execution_count": 53,
   "id": "528ccfb0",
   "metadata": {
    "ExecuteTime": {
     "end_time": "2022-04-25T20:32:51.138384Z",
     "start_time": "2022-04-25T20:32:51.084291Z"
    }
   },
   "outputs": [
    {
     "data": {
      "text/html": [
       "<div>\n",
       "<style scoped>\n",
       "    .dataframe tbody tr th:only-of-type {\n",
       "        vertical-align: middle;\n",
       "    }\n",
       "\n",
       "    .dataframe tbody tr th {\n",
       "        vertical-align: top;\n",
       "    }\n",
       "\n",
       "    .dataframe thead th {\n",
       "        text-align: right;\n",
       "    }\n",
       "</style>\n",
       "<table border=\"1\" class=\"dataframe\">\n",
       "  <thead>\n",
       "    <tr style=\"text-align: right;\">\n",
       "      <th></th>\n",
       "      <th>player_id</th>\n",
       "      <th>rank</th>\n",
       "      <th>id</th>\n",
       "      <th>name</th>\n",
       "      <th>patronymic</th>\n",
       "      <th>surname</th>\n",
       "    </tr>\n",
       "  </thead>\n",
       "  <tbody>\n",
       "    <tr>\n",
       "      <th>3800</th>\n",
       "      <td>27403</td>\n",
       "      <td>2.720250</td>\n",
       "      <td>27403</td>\n",
       "      <td>Максим</td>\n",
       "      <td>Михайлович</td>\n",
       "      <td>Руссо</td>\n",
       "    </tr>\n",
       "    <tr>\n",
       "      <th>4185</th>\n",
       "      <td>30260</td>\n",
       "      <td>2.569439</td>\n",
       "      <td>30260</td>\n",
       "      <td>Евгений</td>\n",
       "      <td>Павлович</td>\n",
       "      <td>Спектор</td>\n",
       "    </tr>\n",
       "    <tr>\n",
       "      <th>598</th>\n",
       "      <td>4270</td>\n",
       "      <td>2.481592</td>\n",
       "      <td>4270</td>\n",
       "      <td>Александра</td>\n",
       "      <td>Владимировна</td>\n",
       "      <td>Брутер</td>\n",
       "    </tr>\n",
       "    <tr>\n",
       "      <th>3986</th>\n",
       "      <td>28751</td>\n",
       "      <td>2.479153</td>\n",
       "      <td>28751</td>\n",
       "      <td>Иван</td>\n",
       "      <td>Николаевич</td>\n",
       "      <td>Семушин</td>\n",
       "    </tr>\n",
       "    <tr>\n",
       "      <th>4170</th>\n",
       "      <td>30152</td>\n",
       "      <td>2.443810</td>\n",
       "      <td>30152</td>\n",
       "      <td>Артём</td>\n",
       "      <td>Сергеевич</td>\n",
       "      <td>Сорожкин</td>\n",
       "    </tr>\n",
       "    <tr>\n",
       "      <th>8003</th>\n",
       "      <td>74001</td>\n",
       "      <td>2.405634</td>\n",
       "      <td>74001</td>\n",
       "      <td>Игорь</td>\n",
       "      <td>Викторович</td>\n",
       "      <td>Мокин</td>\n",
       "    </tr>\n",
       "    <tr>\n",
       "      <th>2827</th>\n",
       "      <td>20207</td>\n",
       "      <td>2.378897</td>\n",
       "      <td>20207</td>\n",
       "      <td>Михаил</td>\n",
       "      <td>Леонидович</td>\n",
       "      <td>Матвеев</td>\n",
       "    </tr>\n",
       "    <tr>\n",
       "      <th>3842</th>\n",
       "      <td>27622</td>\n",
       "      <td>2.360168</td>\n",
       "      <td>27622</td>\n",
       "      <td>Николай</td>\n",
       "      <td>Георгиевич</td>\n",
       "      <td>Рябых</td>\n",
       "    </tr>\n",
       "    <tr>\n",
       "      <th>3000</th>\n",
       "      <td>21487</td>\n",
       "      <td>2.329042</td>\n",
       "      <td>21487</td>\n",
       "      <td>Борис</td>\n",
       "      <td>Яковлевич</td>\n",
       "      <td>Моносов</td>\n",
       "    </tr>\n",
       "    <tr>\n",
       "      <th>3033</th>\n",
       "      <td>21698</td>\n",
       "      <td>2.310540</td>\n",
       "      <td>21698</td>\n",
       "      <td>Александр</td>\n",
       "      <td>Владимирович</td>\n",
       "      <td>Мосягин</td>\n",
       "    </tr>\n",
       "    <tr>\n",
       "      <th>4190</th>\n",
       "      <td>30270</td>\n",
       "      <td>2.310150</td>\n",
       "      <td>30270</td>\n",
       "      <td>Сергей</td>\n",
       "      <td>Леонидович</td>\n",
       "      <td>Спешков</td>\n",
       "    </tr>\n",
       "    <tr>\n",
       "      <th>1488</th>\n",
       "      <td>10660</td>\n",
       "      <td>2.306190</td>\n",
       "      <td>10660</td>\n",
       "      <td>Сергей</td>\n",
       "      <td>Геннадиевич</td>\n",
       "      <td>Ефимов</td>\n",
       "    </tr>\n",
       "    <tr>\n",
       "      <th>2365</th>\n",
       "      <td>16837</td>\n",
       "      <td>2.298317</td>\n",
       "      <td>16837</td>\n",
       "      <td>Наталья</td>\n",
       "      <td>Алексеевна</td>\n",
       "      <td>Кудряшова</td>\n",
       "    </tr>\n",
       "    <tr>\n",
       "      <th>3623</th>\n",
       "      <td>26089</td>\n",
       "      <td>2.287840</td>\n",
       "      <td>26089</td>\n",
       "      <td>Ирина</td>\n",
       "      <td>Сергеевна</td>\n",
       "      <td>Прокофьева</td>\n",
       "    </tr>\n",
       "    <tr>\n",
       "      <th>3183</th>\n",
       "      <td>22799</td>\n",
       "      <td>2.287421</td>\n",
       "      <td>22799</td>\n",
       "      <td>Сергей</td>\n",
       "      <td>Игоревич</td>\n",
       "      <td>Николенко</td>\n",
       "    </tr>\n",
       "    <tr>\n",
       "      <th>3871</th>\n",
       "      <td>27822</td>\n",
       "      <td>2.273858</td>\n",
       "      <td>27822</td>\n",
       "      <td>Михаил</td>\n",
       "      <td>Владимирович</td>\n",
       "      <td>Савченков</td>\n",
       "    </tr>\n",
       "    <tr>\n",
       "      <th>9134</th>\n",
       "      <td>87637</td>\n",
       "      <td>2.263253</td>\n",
       "      <td>87637</td>\n",
       "      <td>Антон</td>\n",
       "      <td>Владимирович</td>\n",
       "      <td>Саксонов</td>\n",
       "    </tr>\n",
       "    <tr>\n",
       "      <th>978</th>\n",
       "      <td>7008</td>\n",
       "      <td>2.258806</td>\n",
       "      <td>7008</td>\n",
       "      <td>Алексей</td>\n",
       "      <td>Владимирович</td>\n",
       "      <td>Гилёв</td>\n",
       "    </tr>\n",
       "    <tr>\n",
       "      <th>1894</th>\n",
       "      <td>13689</td>\n",
       "      <td>2.243943</td>\n",
       "      <td>13689</td>\n",
       "      <td>Дмитрий</td>\n",
       "      <td>Александрович</td>\n",
       "      <td>Карякин</td>\n",
       "    </tr>\n",
       "    <tr>\n",
       "      <th>6592</th>\n",
       "      <td>56647</td>\n",
       "      <td>2.231587</td>\n",
       "      <td>56647</td>\n",
       "      <td>Наталья</td>\n",
       "      <td>Евгеньевна</td>\n",
       "      <td>Горелова</td>\n",
       "    </tr>\n",
       "  </tbody>\n",
       "</table>\n",
       "</div>"
      ],
      "text/plain": [
       "      player_id      rank     id        name     patronymic     surname\n",
       "3800      27403  2.720250  27403      Максим     Михайлович       Руссо\n",
       "4185      30260  2.569439  30260     Евгений       Павлович     Спектор\n",
       "598        4270  2.481592   4270  Александра   Владимировна      Брутер\n",
       "3986      28751  2.479153  28751        Иван     Николаевич     Семушин\n",
       "4170      30152  2.443810  30152       Артём      Сергеевич    Сорожкин\n",
       "8003      74001  2.405634  74001       Игорь     Викторович       Мокин\n",
       "2827      20207  2.378897  20207      Михаил     Леонидович     Матвеев\n",
       "3842      27622  2.360168  27622     Николай     Георгиевич       Рябых\n",
       "3000      21487  2.329042  21487       Борис      Яковлевич     Моносов\n",
       "3033      21698  2.310540  21698   Александр   Владимирович     Мосягин\n",
       "4190      30270  2.310150  30270      Сергей     Леонидович     Спешков\n",
       "1488      10660  2.306190  10660      Сергей    Геннадиевич      Ефимов\n",
       "2365      16837  2.298317  16837     Наталья     Алексеевна   Кудряшова\n",
       "3623      26089  2.287840  26089       Ирина      Сергеевна  Прокофьева\n",
       "3183      22799  2.287421  22799      Сергей       Игоревич   Николенко\n",
       "3871      27822  2.273858  27822      Михаил   Владимирович   Савченков\n",
       "9134      87637  2.263253  87637       Антон   Владимирович    Саксонов\n",
       "978        7008  2.258806   7008     Алексей   Владимирович       Гилёв\n",
       "1894      13689  2.243943  13689     Дмитрий  Александрович     Карякин\n",
       "6592      56647  2.231587  56647     Наталья     Евгеньевна    Горелова"
      ]
     },
     "execution_count": 53,
     "metadata": {},
     "output_type": "execute_result"
    }
   ],
   "source": [
    "df_ranking.merge(df_players, left_on='player_id', right_on='id', how='left').sort_values(by='rank', ascending=False).head(20)"
   ]
  },
  {
   "cell_type": "markdown",
   "id": "87c3c461",
   "metadata": {},
   "source": [
    "## Task 5: Question difficulty without ML"
   ]
  },
  {
   "cell_type": "code",
   "execution_count": 54,
   "id": "a913445f",
   "metadata": {
    "ExecuteTime": {
     "end_time": "2022-04-25T20:36:43.685081Z",
     "start_time": "2022-04-25T20:36:35.659179Z"
    }
   },
   "outputs": [],
   "source": [
    "def nth_game(x, n):\n",
    "    if n < len(x):\n",
    "        return int(x[n].replace('X','0').replace('?','0'))\n",
    "    else:\n",
    "        return 0\n",
    "\n",
    "def questions_difficulty(tournament_id):\n",
    "    df = df_results.loc[df_results['tournament_id'] == tournament_id, ['team_id', 'mask']].drop_duplicates()\n",
    "    very_easy = 0\n",
    "    easy = 0\n",
    "    medium = 0\n",
    "    hard = 0\n",
    "    very_hard = 0\n",
    "    num_questions = df_tournaments.loc[df_tournaments['id'] == tournament_id, 'num_questions'].values[0]\n",
    "\n",
    "    for i in range(num_questions):\n",
    "        proportion = df['mask'].apply(lambda x: nth_game(x, i)).mean()\n",
    "        if proportion >= 0.8:\n",
    "            very_easy += 1\n",
    "        elif proportion >= 0.6:\n",
    "            easy += 1\n",
    "        elif proportion >= 0.4:\n",
    "            medium += 1\n",
    "        elif proportion >= 0.2:\n",
    "            hard += 1\n",
    "        else:\n",
    "            very_hard += 1\n",
    "\n",
    "    return {\n",
    "        'tournament_id': tournament_id,\n",
    "        'very_easy': very_easy / num_questions,\n",
    "        'easy': easy / num_questions,\n",
    "        'medium': medium / num_questions,\n",
    "        'hard': hard / num_questions,\n",
    "        'very_hard': very_hard / num_questions,\n",
    "    }\n",
    "\n",
    "tournament_difficulty = [questions_difficulty(tournament_id) for tournament_id in df_results['tournament_id'].unique()]\n",
    "df_tournament_difficulty = pd.DataFrame(tournament_difficulty)\n",
    "df_results = df_results.merge(df_tournament_difficulty, how='left', on='tournament_id')"
   ]
  },
  {
   "cell_type": "code",
   "execution_count": 55,
   "id": "60da2865",
   "metadata": {
    "ExecuteTime": {
     "end_time": "2022-04-25T20:36:48.845119Z",
     "start_time": "2022-04-25T20:36:48.756987Z"
    }
   },
   "outputs": [
    {
     "data": {
      "text/html": [
       "<div>\n",
       "<style scoped>\n",
       "    .dataframe tbody tr th:only-of-type {\n",
       "        vertical-align: middle;\n",
       "    }\n",
       "\n",
       "    .dataframe tbody tr th {\n",
       "        vertical-align: top;\n",
       "    }\n",
       "\n",
       "    .dataframe thead th {\n",
       "        text-align: right;\n",
       "    }\n",
       "</style>\n",
       "<table border=\"1\" class=\"dataframe\">\n",
       "  <thead>\n",
       "    <tr style=\"text-align: right;\">\n",
       "      <th></th>\n",
       "      <th>id</th>\n",
       "      <th>name</th>\n",
       "      <th>very_hard</th>\n",
       "    </tr>\n",
       "  </thead>\n",
       "  <tbody>\n",
       "    <tr>\n",
       "      <th>258851</th>\n",
       "      <td>6149</td>\n",
       "      <td>Чемпионат Санкт-Петербурга. Первая лига</td>\n",
       "      <td>1.000000</td>\n",
       "    </tr>\n",
       "    <tr>\n",
       "      <th>169927</th>\n",
       "      <td>5717</td>\n",
       "      <td>Чемпионат Таджикистана</td>\n",
       "      <td>0.844444</td>\n",
       "    </tr>\n",
       "    <tr>\n",
       "      <th>385432</th>\n",
       "      <td>6204</td>\n",
       "      <td>Второй Карагандинский марафон</td>\n",
       "      <td>0.817708</td>\n",
       "    </tr>\n",
       "    <tr>\n",
       "      <th>24560</th>\n",
       "      <td>5564</td>\n",
       "      <td>Молодёжный чемпионат Нижегородской области</td>\n",
       "      <td>0.694444</td>\n",
       "    </tr>\n",
       "    <tr>\n",
       "      <th>354217</th>\n",
       "      <td>6161</td>\n",
       "      <td>Студенческий чемпионат Тюменской области</td>\n",
       "      <td>0.666667</td>\n",
       "    </tr>\n",
       "    <tr>\n",
       "      <th>277408</th>\n",
       "      <td>5976</td>\n",
       "      <td>Открытый Студенческий чемпионат Краснодарского...</td>\n",
       "      <td>0.666667</td>\n",
       "    </tr>\n",
       "    <tr>\n",
       "      <th>345660</th>\n",
       "      <td>6027</td>\n",
       "      <td>ТрЭК-13</td>\n",
       "      <td>0.644444</td>\n",
       "    </tr>\n",
       "    <tr>\n",
       "      <th>115073</th>\n",
       "      <td>5599</td>\n",
       "      <td>Чемпионат Туркменистана</td>\n",
       "      <td>0.633333</td>\n",
       "    </tr>\n",
       "    <tr>\n",
       "      <th>22931</th>\n",
       "      <td>5426</td>\n",
       "      <td>Зимник</td>\n",
       "      <td>0.625000</td>\n",
       "    </tr>\n",
       "    <tr>\n",
       "      <th>105093</th>\n",
       "      <td>5453</td>\n",
       "      <td>Кубок губернатора Иркутской области</td>\n",
       "      <td>0.622222</td>\n",
       "    </tr>\n",
       "    <tr>\n",
       "      <th>41103</th>\n",
       "      <td>5447</td>\n",
       "      <td>Фестиваль ЗабГУ</td>\n",
       "      <td>0.616667</td>\n",
       "    </tr>\n",
       "    <tr>\n",
       "      <th>412767</th>\n",
       "      <td>6261</td>\n",
       "      <td>Зеркало Окского марафона. Злой</td>\n",
       "      <td>0.611111</td>\n",
       "    </tr>\n",
       "    <tr>\n",
       "      <th>362934</th>\n",
       "      <td>6111</td>\n",
       "      <td>ФранкенШТО</td>\n",
       "      <td>0.611111</td>\n",
       "    </tr>\n",
       "    <tr>\n",
       "      <th>144953</th>\n",
       "      <td>5637</td>\n",
       "      <td>Чемпионат Кыргызстана</td>\n",
       "      <td>0.611111</td>\n",
       "    </tr>\n",
       "    <tr>\n",
       "      <th>162518</th>\n",
       "      <td>5684</td>\n",
       "      <td>Синхрон высшей лиги Москвы</td>\n",
       "      <td>0.611111</td>\n",
       "    </tr>\n",
       "    <tr>\n",
       "      <th>86162</th>\n",
       "      <td>5532</td>\n",
       "      <td>Седьмая октава: Кубок Равноденствия. Лига Наци...</td>\n",
       "      <td>0.589744</td>\n",
       "    </tr>\n",
       "    <tr>\n",
       "      <th>277474</th>\n",
       "      <td>5993</td>\n",
       "      <td>Енисейская знать</td>\n",
       "      <td>0.586667</td>\n",
       "    </tr>\n",
       "    <tr>\n",
       "      <th>1585</th>\n",
       "      <td>5362</td>\n",
       "      <td>(2+0)*18</td>\n",
       "      <td>0.583333</td>\n",
       "    </tr>\n",
       "    <tr>\n",
       "      <th>41037</th>\n",
       "      <td>5464</td>\n",
       "      <td>Зимние игры</td>\n",
       "      <td>0.583333</td>\n",
       "    </tr>\n",
       "    <tr>\n",
       "      <th>326443</th>\n",
       "      <td>6120</td>\n",
       "      <td>Открытый кубок МВУТ</td>\n",
       "      <td>0.583333</td>\n",
       "    </tr>\n",
       "  </tbody>\n",
       "</table>\n",
       "</div>"
      ],
      "text/plain": [
       "          id                                               name  very_hard\n",
       "258851  6149            Чемпионат Санкт-Петербурга. Первая лига   1.000000\n",
       "169927  5717                             Чемпионат Таджикистана   0.844444\n",
       "385432  6204                      Второй Карагандинский марафон   0.817708\n",
       "24560   5564         Молодёжный чемпионат Нижегородской области   0.694444\n",
       "354217  6161           Студенческий чемпионат Тюменской области   0.666667\n",
       "277408  5976  Открытый Студенческий чемпионат Краснодарского...   0.666667\n",
       "345660  6027                                            ТрЭК-13   0.644444\n",
       "115073  5599                            Чемпионат Туркменистана   0.633333\n",
       "22931   5426                                             Зимник   0.625000\n",
       "105093  5453                Кубок губернатора Иркутской области   0.622222\n",
       "41103   5447                                    Фестиваль ЗабГУ   0.616667\n",
       "412767  6261                     Зеркало Окского марафона. Злой   0.611111\n",
       "362934  6111                                         ФранкенШТО   0.611111\n",
       "144953  5637                              Чемпионат Кыргызстана   0.611111\n",
       "162518  5684                         Синхрон высшей лиги Москвы   0.611111\n",
       "86162   5532  Седьмая октава: Кубок Равноденствия. Лига Наци...   0.589744\n",
       "277474  5993                                   Енисейская знать   0.586667\n",
       "1585    5362                                           (2+0)*18   0.583333\n",
       "41037   5464                                        Зимние игры   0.583333\n",
       "326443  6120                                Открытый кубок МВУТ   0.583333"
      ]
     },
     "execution_count": 55,
     "metadata": {},
     "output_type": "execute_result"
    }
   ],
   "source": [
    "df_results[['id', 'name', 'very_hard']].drop_duplicates().sort_values('very_hard', ascending=False).head(20)"
   ]
  }
 ],
 "metadata": {
  "@webio": {
   "lastCommId": null,
   "lastKernelId": null
  },
  "hide_input": false,
  "kernelspec": {
   "display_name": "Python 3 (ipykernel)",
   "language": "python",
   "name": "python3"
  },
  "language_info": {
   "codemirror_mode": {
    "name": "ipython",
    "version": 3
   },
   "file_extension": ".py",
   "mimetype": "text/x-python",
   "name": "python",
   "nbconvert_exporter": "python",
   "pygments_lexer": "ipython3",
   "version": "3.9.12"
  },
  "toc": {
   "base_numbering": 1,
   "nav_menu": {},
   "number_sections": true,
   "sideBar": true,
   "skip_h1_title": false,
   "title_cell": "Table of Contents",
   "title_sidebar": "Contents",
   "toc_cell": false,
   "toc_position": {},
   "toc_section_display": true,
   "toc_window_display": false
  },
  "varInspector": {
   "cols": {
    "lenName": 16,
    "lenType": 16,
    "lenVar": 40
   },
   "kernels_config": {
    "python": {
     "delete_cmd_postfix": "",
     "delete_cmd_prefix": "del ",
     "library": "var_list.py",
     "varRefreshCmd": "print(var_dic_list())"
    },
    "r": {
     "delete_cmd_postfix": ") ",
     "delete_cmd_prefix": "rm(",
     "library": "var_list.r",
     "varRefreshCmd": "cat(var_dic_list()) "
    }
   },
   "types_to_exclude": [
    "module",
    "function",
    "builtin_function_or_method",
    "instance",
    "_Feature"
   ],
   "window_display": false
  }
 },
 "nbformat": 4,
 "nbformat_minor": 5
}
